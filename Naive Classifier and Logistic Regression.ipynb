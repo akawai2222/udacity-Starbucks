{
 "cells": [
  {
   "cell_type": "markdown",
   "metadata": {},
   "source": [
    "# Starbucks Capstone Challenge"
   ]
  },
  {
   "cell_type": "markdown",
   "metadata": {},
   "source": [
    "# Naive Classifier"
   ]
  },
  {
   "cell_type": "code",
   "execution_count": 6,
   "metadata": {},
   "outputs": [],
   "source": [
    "import pandas as pd\n",
    "import os\n",
    "import numpy as np"
   ]
  },
  {
   "cell_type": "markdown",
   "metadata": {},
   "source": [
    "### Import data"
   ]
  },
  {
   "cell_type": "code",
   "execution_count": 5,
   "metadata": {},
   "outputs": [],
   "source": [
    "data_dir = 'ML_data'\n",
    "\n",
    "train_data = pd.read_csv(os.path.join(data_dir,'train.csv'), header= None)\n",
    "train_y, train_x = train_data.iloc[:,0], train_data.iloc[:,1:]\n",
    "\n",
    "test_data = pd.read_csv(os.path.join(data_dir,'test.csv'), header= None)\n",
    "test_y, test_x = test_data.iloc[:,0], test_data.iloc[:,1:]"
   ]
  },
  {
   "cell_type": "markdown",
   "metadata": {},
   "source": [
    "### Test the naive classifier"
   ]
  },
  {
   "cell_type": "code",
   "execution_count": 7,
   "metadata": {},
   "outputs": [
    {
     "name": "stdout",
     "output_type": "stream",
     "text": [
      "\n",
      "Accuracy Score: 0.620216118865376\n",
      "\n",
      "F1 Score: 0.7655967764346256\n",
      "\n",
      "Precision: 0.620216118865376\n",
      "\n",
      "Recall: 1.0\n"
     ]
    }
   ],
   "source": [
    "from sklearn.metrics import accuracy_score\n",
    "accuracy = accuracy_score(test_y, np.ones(len(test_y)))\n",
    "from sklearn.metrics import f1_score\n",
    "f1 = f1_score(test_y, np.ones(len(test_y)))\n",
    "from sklearn.metrics import precision_score\n",
    "precision = precision_score(test_y, np.ones(len(test_y)), average='binary')\n",
    "from sklearn.metrics import recall_score\n",
    "recall = recall_score(test_y, np.ones(len(test_y)), average='binary')\n",
    "print('\\nAccuracy Score:', accuracy)\n",
    "print('\\nF1 Score:', f1)\n",
    "print('\\nPrecision:', precision)\n",
    "print('\\nRecall:', recall)"
   ]
  },
  {
   "cell_type": "markdown",
   "metadata": {},
   "source": [
    "# Logistic Regression"
   ]
  },
  {
   "cell_type": "code",
   "execution_count": 8,
   "metadata": {},
   "outputs": [],
   "source": [
    "from sklearn.linear_model import LogisticRegression"
   ]
  },
  {
   "cell_type": "markdown",
   "metadata": {},
   "source": [
    "### Train the model"
   ]
  },
  {
   "cell_type": "code",
   "execution_count": 9,
   "metadata": {},
   "outputs": [],
   "source": [
    "model = LogisticRegression(solver='lbfgs')"
   ]
  },
  {
   "cell_type": "code",
   "execution_count": 10,
   "metadata": {},
   "outputs": [],
   "source": [
    "model = model.fit(train_x, train_y)"
   ]
  },
  {
   "cell_type": "markdown",
   "metadata": {},
   "source": [
    "### Test the model"
   ]
  },
  {
   "cell_type": "code",
   "execution_count": 11,
   "metadata": {},
   "outputs": [],
   "source": [
    "predictions = model.predict(test_x)"
   ]
  },
  {
   "cell_type": "code",
   "execution_count": 12,
   "metadata": {},
   "outputs": [
    {
     "name": "stdout",
     "output_type": "stream",
     "text": [
      "\n",
      "Accuracy Score: 0.6791985592075641\n",
      "\n",
      "F1 Score: 0.7658945293247905\n",
      "\n",
      "Precision: 0.6995798319327731\n",
      "\n",
      "Recall: 0.8460980036297641\n"
     ]
    }
   ],
   "source": [
    "from sklearn.metrics import accuracy_score\n",
    "accuracy = accuracy_score(test_y, predictions)\n",
    "from sklearn.metrics import f1_score\n",
    "f1 = f1_score(test_y, predictions)\n",
    "from sklearn.metrics import precision_score\n",
    "precision = precision_score(test_y, predictions, average='binary')\n",
    "from sklearn.metrics import recall_score\n",
    "recall = recall_score(test_y, predictions, average='binary')\n",
    "print('\\nAccuracy Score:', accuracy)\n",
    "print('\\nF1 Score:', f1)\n",
    "print('\\nPrecision:', precision)\n",
    "print('\\nRecall:', recall)"
   ]
  },
  {
   "cell_type": "code",
   "execution_count": null,
   "metadata": {},
   "outputs": [],
   "source": []
  }
 ],
 "metadata": {
  "kernelspec": {
   "display_name": "conda_pytorch_p36",
   "language": "python",
   "name": "conda_pytorch_p36"
  },
  "language_info": {
   "codemirror_mode": {
    "name": "ipython",
    "version": 3
   },
   "file_extension": ".py",
   "mimetype": "text/x-python",
   "name": "python",
   "nbconvert_exporter": "python",
   "pygments_lexer": "ipython3",
   "version": "3.6.5"
  }
 },
 "nbformat": 4,
 "nbformat_minor": 4
}
